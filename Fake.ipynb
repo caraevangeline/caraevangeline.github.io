{
  "nbformat": 4,
  "nbformat_minor": 0,
  "metadata": {
    "colab": {
      "name": "Fake.ipynb",
      "provenance": [],
      "collapsed_sections": [],
      "toc_visible": true
    },
    "kernelspec": {
      "name": "python3",
      "display_name": "Python 3",
      "language": "python"
    }
  },
  "cells": [
    {
      "cell_type": "code",
      "metadata": {
        "id": "qrj6ovAlWTpk"
      },
      "source": [
        "y = [\"\" for x in range(75)]\n",
        "k = 0\n",
        "for i in range(25,50):\n",
        "  y[k] = \"164.173.194.\"+str(i)\n",
        "  k = k+1\n",
        "\n",
        "for i in range(125,165):\n",
        "  y[k] = \"192.168.1.\" + str(i)\n",
        "  k = k+1\n",
        "\n",
        "for i in range(175,185):\n",
        "  y[k] = \"150.190.173.\" +str(i)\n",
        "  k = k+1\n",
        "\n",
        "\n"
      ],
      "execution_count": 2,
      "outputs": []
    },
    {
      "cell_type": "code",
      "metadata": {
        "colab": {
          "base_uri": "https://localhost:8080/"
        },
        "id": "qcBvpYkfXqD8",
        "outputId": "4045ef84-4125-49c1-ba70-0673abfef1bb"
      },
      "source": [
        "print(len(y))"
      ],
      "execution_count": 3,
      "outputs": [
        {
          "output_type": "stream",
          "name": "stdout",
          "text": [
            "75\n"
          ]
        }
      ]
    },
    {
      "cell_type": "code",
      "metadata": {
        "id": "Xs45cpKIZKzb"
      },
      "source": [
        "import csv\n",
        "from random import *\n",
        "\n",
        "pairs = []\n",
        "connections = [\"tcp\", \"udp\", \"icmp\"]\n",
        "with open('ip_address.csv', mode='w') as ip_address:\n",
        "  ip_writer = csv.writer(ip_address, delimiter=',', quotechar='\"', quoting=csv.QUOTE_MINIMAL)\n",
        "  while (len(pairs) < 75):\n",
        "    ind1 = randint(0,74)\n",
        "    indicator = random()\n",
        "    if (ind1 < 25):\n",
        "      if (indicator < 0.6):\n",
        "        ind2 = 0\n",
        "      elif (indicator <0.95):\n",
        "        ind2 = randint(1,24)\n",
        "      else:\n",
        "        ind2 = randint(25, 74)\n",
        "    if (ind1 > 24 and ind1 < 65):\n",
        "      if (indicator < 0.6):\n",
        "        ind2 = 25\n",
        "      elif (indicator <0.95):\n",
        "        ind2 = randint(26,64)\n",
        "      elif (indicator <0.975):\n",
        "        ind2 = randint(0, 24)\n",
        "      else:\n",
        "        ind2 = randint(65, 74)\n",
        "    if (ind1 > 64):\n",
        "      if (indicator < 0.6):\n",
        "        ind2 = 65\n",
        "      elif (indicator < 0.95):\n",
        "        ind2 = randint(66,74)\n",
        "      else:\n",
        "        ind2 = randint(0, 64)\n",
        "    x = y[ind1]\n",
        "    z = y[ind2]\n",
        "    \n",
        "    #Check if pait is valid and append it to the list with the necessary informations\n",
        "    if ([ind1, ind2] not in pairs and ind1 != ind2 and [ind2, ind1] not in pairs):\n",
        "      pairs.append([ind1, ind2])\n",
        "      spl = sample(connections, 1)[0]\n",
        "      bts = randint(1, 100000)\n",
        "      ip_writer.writerow([x, z, spl, bts])\n",
        "    "
      ],
      "execution_count": 8,
      "outputs": []
    },
    {
      "cell_type": "code",
      "metadata": {
        "id": "4k4JBbaemX8I"
      },
      "source": [
        "with open('nodes.csv', mode='w') as nodes:\n",
        "  nodes_writer = csv.writer(nodes, delimiter=',', quotechar='\"', quoting=csv.QUOTE_MINIMAL)\n",
        "  for i in range(len(y)):\n",
        "      nodes_writer.writerow([y[i]])"
      ],
      "execution_count": 11,
      "outputs": []
    },
    {
      "cell_type": "code",
      "execution_count": null,
      "metadata": {},
      "outputs": [],
      "source": [
        "#https://www.convertcsv.com/csv-to-json.htm"
      ]
    }
  ]
}